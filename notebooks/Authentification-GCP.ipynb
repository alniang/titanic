{
 "cells": [
  {
   "cell_type": "code",
   "execution_count": null,
   "id": "b8756bd9",
   "metadata": {},
   "outputs": [
    {
     "name": "stdout",
     "output_type": "stream",
     "text": [
      "/Users/aloys.bernard/Downloads/titanic/credentials/service-account.json\n"
     ]
    }
   ],
   "source": [
    "from google.cloud import storage\n",
    "import os\n",
    "\n",
    "# Verify that you have set the GOOGLE_APPLICATION_CREDENTIALS environment variable\n",
    "print(os.environ.get('GOOGLE_APPLICATION_CREDENTIALS'))\n",
    "client =  storage.Client()"
   ]
  },
  {
   "cell_type": "code",
   "execution_count": null,
   "id": "854ec511",
   "metadata": {},
   "outputs": [],
   "source": [
    "# otherwise, you can specify the path to your credentials file directly\n",
    "client = storage.Client.from_service_account_json('path/to/your/credentials.json')"
   ]
  }
 ],
 "metadata": {
  "kernelspec": {
   "display_name": "titanic_env",
   "language": "python",
   "name": "python3"
  },
  "language_info": {
   "codemirror_mode": {
    "name": "ipython",
    "version": 3
   },
   "file_extension": ".py",
   "mimetype": "text/x-python",
   "name": "python",
   "nbconvert_exporter": "python",
   "pygments_lexer": "ipython3",
   "version": "3.11.8"
  }
 },
 "nbformat": 4,
 "nbformat_minor": 5
}
