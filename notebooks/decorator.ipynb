{
 "cells": [
  {
   "cell_type": "markdown",
   "id": "79ad3a15",
   "metadata": {},
   "source": [
    "## Decorators\n",
    "\n",
    "Decorators are a powerful feature in Python that allow you to modify the behavior of functions or methods. They are often used for logging, access control, memoization, and more."
   ]
  },
  {
   "cell_type": "code",
   "execution_count": 9,
   "id": "3dddccf6",
   "metadata": {},
   "outputs": [],
   "source": [
    "import time \n",
    "\n",
    "def timeit(func):\n",
    "    \"\"\"\n",
    "    A decorator to time the execution of a function\n",
    "    \"\"\"\n",
    "    def mustafa(*args, **kwargs):\n",
    "        start_time = time.time()\n",
    "        result = func(*args, **kwargs)\n",
    "        end_time = time.time()\n",
    "        elapsed_time = end_time - start_time\n",
    "        print(f\"Function '{func.__name__}' executed in {elapsed_time:.4f} seconds\")\n",
    "        return result\n",
    "    return mustafa\n"
   ]
  },
  {
   "cell_type": "code",
   "execution_count": 10,
   "id": "2634ad98",
   "metadata": {},
   "outputs": [
    {
     "name": "stdout",
     "output_type": "stream",
     "text": [
      "✅ Huge work done!\n",
      "Function 'huge_work' executed in 2.0052 seconds\n"
     ]
    }
   ],
   "source": [
    "def huge_work():\n",
    "    time.sleep(2)  # Simulating a long-running task\n",
    "    print(\"✅ Huge work done!\")\n",
    "    \n",
    "huge_work = timeit(huge_work)\n",
    "huge_work()"
   ]
  },
  {
   "cell_type": "code",
   "execution_count": 12,
   "id": "79912936",
   "metadata": {},
   "outputs": [
    {
     "name": "stdout",
     "output_type": "stream",
     "text": [
      "✅ Huge work done!\n",
      "Function 'huge_work' executed in 2.0053 seconds\n"
     ]
    }
   ],
   "source": [
    "@timeit\n",
    "def huge_work():\n",
    "    time.sleep(2)  # Simulating a long-running task\n",
    "    print(\"✅ Huge work done!\")\n",
    "    \n",
    "huge_work()"
   ]
  },
  {
   "cell_type": "markdown",
   "id": "56faa8c3",
   "metadata": {},
   "source": [
    "## Example : Caching Decorator"
   ]
  },
  {
   "cell_type": "code",
   "execution_count": 6,
   "id": "6075208d",
   "metadata": {},
   "outputs": [
    {
     "data": {
      "text/plain": [
       "102334155"
      ]
     },
     "execution_count": 6,
     "metadata": {},
     "output_type": "execute_result"
    }
   ],
   "source": [
    "def fib(n):\n",
    "    if n < 0:\n",
    "        raise ValueError(\"Input must be a non-negative integer\")\n",
    "    if n <= 2:\n",
    "        return 1\n",
    "    return fib(n - 1) + fib(n - 2)\n",
    "\n",
    "fib(40)"
   ]
  },
  {
   "cell_type": "code",
   "execution_count": 9,
   "id": "5bfb335a",
   "metadata": {},
   "outputs": [
    {
     "data": {
      "text/plain": [
       "43466557686937456435688527675040625802564660517371780402481729089536555417949051890403879840079255169295922593080322634775209689623239873322471161642996440906533187938298969649928516003704476137795166849228875"
      ]
     },
     "execution_count": 9,
     "metadata": {},
     "output_type": "execute_result"
    }
   ],
   "source": [
    "def cache(func):\n",
    "    \"\"\"\n",
    "    A decorator to cache the results of a function\n",
    "    \"\"\"\n",
    "    memo = {}\n",
    "    \n",
    "    def wrapper(*args):\n",
    "        if args not in memo:\n",
    "            result = func(*args)\n",
    "            memo[args] = result\n",
    "        return memo[args]\n",
    "    \n",
    "    return wrapper\n",
    "\n",
    "@cache\n",
    "def fib(n):\n",
    "    if n < 0:\n",
    "        raise ValueError(\"Input must be a non-negative integer\")\n",
    "    if n <= 2:\n",
    "        return 1\n",
    "    return fib(n - 1) + fib(n - 2)\n",
    "\n",
    "fib(1000)"
   ]
  },
  {
   "cell_type": "code",
   "execution_count": 11,
   "id": "7857f2fe",
   "metadata": {},
   "outputs": [
    {
     "data": {
      "text/plain": [
       "43466557686937456435688527675040625802564660517371780402481729089536555417949051890403879840079255169295922593080322634775209689623239873322471161642996440906533187938298969649928516003704476137795166849228875"
      ]
     },
     "execution_count": 11,
     "metadata": {},
     "output_type": "execute_result"
    }
   ],
   "source": [
    "from functools import lru_cache\n",
    "\n",
    "@lru_cache(maxsize=None)\n",
    "def fib(n):\n",
    "    if n < 0:\n",
    "        raise ValueError(\"Input must be a non-negative integer\")\n",
    "    if n <= 2:\n",
    "        return 1\n",
    "    return fib(n - 1) + fib(n - 2)\n",
    "fib(1000)"
   ]
  },
  {
   "cell_type": "code",
   "execution_count": 13,
   "id": "b30e1f38",
   "metadata": {},
   "outputs": [
    {
     "data": {
      "text/plain": [
       "CacheInfo(hits=997, misses=1000, maxsize=None, currsize=1000)"
      ]
     },
     "execution_count": 13,
     "metadata": {},
     "output_type": "execute_result"
    }
   ],
   "source": [
    "fib.cache_info()"
   ]
  }
 ],
 "metadata": {
  "kernelspec": {
   "display_name": "Artefact",
   "language": "python",
   "name": "python3"
  },
  "language_info": {
   "codemirror_mode": {
    "name": "ipython",
    "version": 3
   },
   "file_extension": ".py",
   "mimetype": "text/x-python",
   "name": "python",
   "nbconvert_exporter": "python",
   "pygments_lexer": "ipython3",
   "version": "3.11.8"
  }
 },
 "nbformat": 4,
 "nbformat_minor": 5
}
